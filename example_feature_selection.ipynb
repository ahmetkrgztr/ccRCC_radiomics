{
 "cells": [
  {
   "cell_type": "code",
   "execution_count": null,
   "metadata": {},
   "outputs": [],
   "source": [
    "from feature_selection import FeatureSelection"
   ]
  },
  {
   "cell_type": "code",
   "execution_count": null,
   "metadata": {
    "scrolled": true
   },
   "outputs": [],
   "source": [
    "fs = FeatureSelection(\"extracted_features/aTV_df.csv\", \"aTV\", 15, 5, num_iter=100)\n",
    "fs.select_features()"
   ]
  },
  {
   "cell_type": "code",
   "execution_count": null,
   "metadata": {
    "scrolled": true
   },
   "outputs": [],
   "source": [
    "fs = FeatureSelection(\"extracted_features/eTV_2mm_df.csv\", \"eTV_2mm\", 15, 5, num_iter=100)\n",
    "fs.select_features()"
   ]
  },
  {
   "cell_type": "code",
   "execution_count": null,
   "metadata": {
    "scrolled": true
   },
   "outputs": [],
   "source": [
    "fs = FeatureSelection(\"extracted_features/eTV_4mm_df.csv\", \"eTV_4mm\", 15, 5, num_iter=100)\n",
    "fs.select_features()"
   ]
  },
  {
   "cell_type": "code",
   "execution_count": null,
   "metadata": {
    "scrolled": true
   },
   "outputs": [],
   "source": [
    "fs = FeatureSelection(\"extracted_features/iTV_2mm_df.csv\", \"iTV_2mm\", 15, 5, num_iter=100)\n",
    "fs.select_features()"
   ]
  },
  {
   "cell_type": "code",
   "execution_count": null,
   "metadata": {},
   "outputs": [],
   "source": [
    "fs = FeatureSelection(\"extracted_features/sTV_2mm_df.csv\", \"sTV_2mm\", 15, 5, num_iter=100)\n",
    "fs.select_features()"
   ]
  },
  {
   "cell_type": "code",
   "execution_count": null,
   "metadata": {},
   "outputs": [],
   "source": [
    "fs = FeatureSelection(\"extracted_features/sTV_4mm_df.csv\", \"sTV_4mm\", 15, 5, num_iter=100)\n",
    "fs.select_features()"
   ]
  },
  {
   "cell_type": "code",
   "execution_count": null,
   "metadata": {},
   "outputs": [],
   "source": []
  }
 ],
 "metadata": {
  "kernelspec": {
   "display_name": "Python 3",
   "language": "python",
   "name": "python3"
  },
  "language_info": {
   "codemirror_mode": {
    "name": "ipython",
    "version": 3
   },
   "file_extension": ".py",
   "mimetype": "text/x-python",
   "name": "python",
   "nbconvert_exporter": "python",
   "pygments_lexer": "ipython3",
   "version": "3.8.3"
  }
 },
 "nbformat": 4,
 "nbformat_minor": 4
}
