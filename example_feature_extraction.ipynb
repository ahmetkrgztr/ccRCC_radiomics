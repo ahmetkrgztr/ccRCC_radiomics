{
 "cells": [
  {
   "cell_type": "code",
   "execution_count": null,
   "metadata": {},
   "outputs": [],
   "source": [
    "import radiomics\n",
    "import logging\n",
    "import os\n",
    "import pandas as pd\n",
    "from pathlib import Path\n",
    "from tqdm import tqdm"
   ]
  },
  {
   "cell_type": "code",
   "execution_count": null,
   "metadata": {},
   "outputs": [],
   "source": [
    "def get_im_path(i):\n",
    "    case = f\"{i}\".zfill(5)\n",
    "    path = f\"insert_path_here\\\\case_{case}\\\\imaging.nii.gz\"\n",
    "    return path\n",
    "\n",
    "def get_seg_path(i):\n",
    "    case = f\"{i}\".zfill(5)\n",
    "    path = f\"insert_path_here\\\\case_{case}\\\\segmentation.nii.gz\"\n",
    "    return path"
   ]
  },
  {
   "cell_type": "code",
   "execution_count": null,
   "metadata": {},
   "outputs": [],
   "source": [
    "params_path = \"params.yml\""
   ]
  },
  {
   "cell_type": "code",
   "execution_count": null,
   "metadata": {},
   "outputs": [],
   "source": [
    "log_file = 'log_file.txt'\n",
    "handler = logging.FileHandler(filename=log_file, mode='w')  # overwrites log_files from previous runs. Change mode to 'a' to append.\n",
    "formatter = logging.Formatter(\"%(levelname)s:%(name)s: %(message)s\")  # format string for log messages\n",
    "handler.setFormatter(formatter)\n",
    "radiomics.logger.addHandler(handler)\n",
    "\n",
    "# Control the amount of logging stored by setting the level of the logger. N.B. if the level is higher than the\n",
    "# Verbositiy level, the logger level will also determine the amount of information printed to the output\n",
    "radiomics.logger.setLevel(logging.DEBUG)\n"
   ]
  },
  {
   "cell_type": "code",
   "execution_count": null,
   "metadata": {},
   "outputs": [],
   "source": [
    "extractor = radiomics.featureextractor.RadiomicsFeatureExtractor(params_path)"
   ]
  },
  {
   "cell_type": "code",
   "execution_count": null,
   "metadata": {},
   "outputs": [],
   "source": [
    "def extract_feature(extractor ,image_path, mask_path):\n",
    "    features = dict(extractor.execute(image_path, mask_path))\n",
    "    features = {k: v for k, v in features.items() if not \"diagnostic\" in k}\n",
    "    return features"
   ]
  },
  {
   "cell_type": "code",
   "execution_count": null,
   "metadata": {
    "scrolled": true
   },
   "outputs": [],
   "source": [
    "for i in tqdm(range(0,212,1)): #resampled to 1x1x1 mm\n",
    "#for i in tqdm(ccrccTNMdata.index, total=len(ccrccTNMdata.index)):\n",
    "    try:\n",
    "        image_path = get_im_path(i)\n",
    "        mask_path =  get_seg_path(i)\n",
    "\n",
    "        features = extract_feature(extractor, image_path, mask_path)\n",
    "        features[\"case\"] = f\"case{i}\"\n",
    "\n",
    "        if i == 0:\n",
    "            df = pd.DataFrame([features])\n",
    "        else:\n",
    "            df = df.append(pd.DataFrame([features]), ignore_index=True)\n",
    "        \n",
    "    except:\n",
    "        print(i)\n",
    "df.to_csv(\"features_df.csv\", index=False)"
   ]
  }
 ],
 "metadata": {
  "kernelspec": {
   "display_name": "Python 3",
   "language": "python",
   "name": "python3"
  },
  "language_info": {
   "codemirror_mode": {
    "name": "ipython",
    "version": 3
   },
   "file_extension": ".py",
   "mimetype": "text/x-python",
   "name": "python",
   "nbconvert_exporter": "python",
   "pygments_lexer": "ipython3",
   "version": "3.8.3"
  }
 },
 "nbformat": 4,
 "nbformat_minor": 4
}
