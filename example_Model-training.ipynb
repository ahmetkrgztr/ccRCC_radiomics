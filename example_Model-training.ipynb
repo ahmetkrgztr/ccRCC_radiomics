{
 "cells": [
  {
   "cell_type": "code",
   "execution_count": null,
   "metadata": {},
   "outputs": [],
   "source": [
    "from model_training import ModelTraining\n",
    "import os"
   ]
  },
  {
   "cell_type": "code",
   "execution_count": null,
   "metadata": {},
   "outputs": [],
   "source": [
    "roi_names = [\"aTV\", \"eTV_2mm\", \"eTV_4mm\", \"iTV_2mm\", \"sTV_2mm\", \"sTV_4mm\"]\n",
    "folds = [0,1,2,3,4]\n",
    "ups_methods = [\"NONUPSAMPLED\", \"ADASYN\", \"SMOTE\", \"SVMSMOTE\"]\n",
    "output_folder = \"path/to/trained/models\"\n",
    "selected_features_folder = \"path/to/selected/features\""
   ]
  },
  {
   "cell_type": "code",
   "execution_count": null,
   "metadata": {
    "scrolled": true
   },
   "outputs": [],
   "source": [
    "for roi_name in roi_names:\n",
    "    for ups_method in ups_methods:\n",
    "        for fold in folds:       \n",
    "            folder_path = os.path.join(selected_features_folder,roi_name, f\"FOLD{fold}\", ups_method)\n",
    "            file_names = os.listdir(folder_path)\n",
    "            for file_name in file_names:\n",
    "                if file_name.startswith(\"train\"):\n",
    "                    train_df_path = os.path.join(folder_path, file_name)\n",
    "                if file_name.startswith(\"test\"):\n",
    "                    test_df_path = os.path.join(folder_path, file_name)\n",
    "            print(train_df_path)\n",
    "            print(test_df_path)\n",
    "            mt = ModelTraining(train_df_path, test_df_path, roi_name, fold, ups_method, output_folder)\n",
    "            mt.train_all()\n",
    "\n",
    "        break\n",
    "    break"
   ]
  }
 ],
 "metadata": {
  "kernelspec": {
   "display_name": "Python 3",
   "language": "python",
   "name": "python3"
  },
  "language_info": {
   "codemirror_mode": {
    "name": "ipython",
    "version": 3
   },
   "file_extension": ".py",
   "mimetype": "text/x-python",
   "name": "python",
   "nbconvert_exporter": "python",
   "pygments_lexer": "ipython3",
   "version": "3.8.3"
  }
 },
 "nbformat": 4,
 "nbformat_minor": 4
}
